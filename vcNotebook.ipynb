{
 "cells": [
  {
   "cell_type": "code",
<<<<<<< HEAD
   "execution_count": 3,
=======
   "execution_count": 12,
>>>>>>> 07ad365b3d9b2d37d34989b355935815390710bd
   "metadata": {},
   "outputs": [
    {
     "name": "stdin",
     "output_type": "stream",
     "text": [
<<<<<<< HEAD
      "Enter Name:  Annie\n",
      "Enter Age:  11\n"
=======
      "Enter Name:  aishu\n",
      "Enter Age:  10\n"
>>>>>>> 07ad365b3d9b2d37d34989b355935815390710bd
     ]
    },
    {
     "name": "stdout",
     "output_type": "stream",
     "text": [
<<<<<<< HEAD
      "Hello  Annie , 10 years later you are 21 years old!\n"
=======
      "Hello aishu you will be 20 in ten years\n"
>>>>>>> 07ad365b3d9b2d37d34989b355935815390710bd
     ]
    }
   ],
   "source": [
    "q1 = input(\"Enter Name: \")\n",
    "name = str(q1)\n",
    "q2 = input(\"Enter Age: \")\n",
    "age = int(q2)\n",
<<<<<<< HEAD
    "age = age + 10;\n",
    "print(\"Hello \" ,name, \", 10 years later you are\", age, \"years old!\")"
=======
    "age = age + 10 \n",
    "print(\"Hello\" , name , \"you will be\" , age , \"in ten years\")"
>>>>>>> 07ad365b3d9b2d37d34989b355935815390710bd
   ]
  },
  {
   "cell_type": "code",
   "execution_count": null,
   "metadata": {},
   "outputs": [],
   "source": []
  }
 ],
 "metadata": {
  "kernelspec": {
   "display_name": "Python 3",
   "language": "python",
   "name": "python3"
  },
  "language_info": {
   "codemirror_mode": {
    "name": "ipython",
    "version": 3
   },
   "file_extension": ".py",
   "mimetype": "text/x-python",
   "name": "python",
   "nbconvert_exporter": "python",
   "pygments_lexer": "ipython3",
   "version": "3.8.3"
  }
 },
 "nbformat": 4,
 "nbformat_minor": 4
}
