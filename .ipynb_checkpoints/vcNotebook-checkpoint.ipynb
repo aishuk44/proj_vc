{
 "cells": [
  {
   "cell_type": "code",
   "execution_count": 3,
   "metadata": {},
   "outputs": [
    {
     "name": "stdin",
     "output_type": "stream",
     "text": [
      "Enter Name:  Annie\n",
      "Enter Age:  11\n"
     ]
    },
    {
     "name": "stdout",
     "output_type": "stream",
     "text": [
      "Hello  Annie , 10 years later you are 21 years old!\n"
     ]
    }
   ],
   "source": [
    "q1 = input(\"Enter Name: \")\n",
    "name = str(q1)\n",
    "q2 = input(\"Enter Age: \")\n",
    "age = int(q2)\n",
    "age = age + 10;\n",
    "print(\"Hello \" ,name, \", 10 years later you are\", age, \"years old!\")"
   ]
  },
  {
   "cell_type": "code",
   "execution_count": null,
   "metadata": {},
   "outputs": [],
   "source": []
  }
 ],
 "metadata": {
  "kernelspec": {
   "display_name": "Python 3",
   "language": "python",
   "name": "python3"
  },
  "language_info": {
   "codemirror_mode": {
    "name": "ipython",
    "version": 3
   },
   "file_extension": ".py",
   "mimetype": "text/x-python",
   "name": "python",
   "nbconvert_exporter": "python",
   "pygments_lexer": "ipython3",
   "version": "3.8.3"
  }
 },
 "nbformat": 4,
 "nbformat_minor": 4
}
